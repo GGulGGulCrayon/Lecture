{
 "cells": [
  {
   "cell_type": "markdown",
   "id": "82f837d2",
   "metadata": {},
   "source": [
    "# 1. 라이브러리 로드"
   ]
  },
  {
   "cell_type": "code",
   "execution_count": null,
   "id": "072dc2ab",
   "metadata": {},
   "outputs": [],
   "source": [
    "#!pip install shap\n",
    "#!pip install lime\n",
    "#!pip install klib"
   ]
  },
  {
   "cell_type": "code",
   "execution_count": null,
   "id": "195b1e93",
   "metadata": {},
   "outputs": [],
   "source": [
    "from time import time\n",
    "from mpl_toolkits.mplot3d import Axes3D\n",
    "from sklearn.model_selection import train_test_split\n",
    "from sklearn.preprocessing import QuantileTransformer\n",
    "from sklearn.pipeline import make_pipeline\n",
    "\n",
    "from sklearn.inspection import partial_dependence\n",
    "from sklearn.inspection import plot_partial_dependence\n",
    "from sklearn.experimental import enable_hist_gradient_boosting\n",
    "from sklearn.ensemble import HistGradientBoostingRegressor\n",
    "from sklearn.neural_network import MLPRegressor\n",
    "\n",
    "import pandas as pd \n",
    "import numpy as np \n",
    "#from sklearn.datasets import load_boston \n",
    "from sklearn.ensemble import RandomForestRegressor\n",
    "import xgboost\n",
    "from sklearn.inspection import plot_partial_dependence \n",
    "from sklearn.inspection import partial_dependence \n",
    "from sklearn.model_selection import train_test_split\n",
    "from matplotlib import pyplot as plt\n",
    "import shap\n",
    "import lime\n",
    "import lime.lime_tabular\n",
    "from sklearn.metrics import mean_squared_error\n",
    "\n",
    "import warnings\n",
    "warnings.filterwarnings(action='ignore')\n",
    "\n",
    "# EDA\n",
    "import klib\n",
    "import seaborn as sns"
   ]
  },
  {
   "cell_type": "markdown",
   "id": "ea3e7306",
   "metadata": {},
   "source": [
    "# 2. 데이터셋 로드"
   ]
  },
  {
   "cell_type": "code",
   "execution_count": null,
   "id": "a3eeb24c",
   "metadata": {
    "scrolled": true
   },
   "outputs": [],
   "source": [
    "#boston = load_boston() \n",
    "#boston.keys() \n",
    "# dict_keys(['data', 'target', 'feature_names', 'DESCR', 'filename']) \n",
    "\n",
    "#X = pd.DataFrame(boston['data'], columns=boston['feature_names']) \n",
    "#y = pd.DataFrame(boston['target'], columns=['target'])\n",
    "X"
   ]
  },
  {
   "cell_type": "markdown",
   "id": "3202361f",
   "metadata": {},
   "source": [
    "# 3. 탐색적 데이터 분석"
   ]
  },
  {
   "cell_type": "markdown",
   "id": "ea060797",
   "metadata": {},
   "source": [
    "### 결측치 확인"
   ]
  },
  {
   "cell_type": "code",
   "execution_count": null,
   "id": "bc756864",
   "metadata": {},
   "outputs": [],
   "source": [
    "X.isnull().sum()"
   ]
  },
  {
   "cell_type": "code",
   "execution_count": null,
   "id": "3db264d5",
   "metadata": {},
   "outputs": [],
   "source": [
    "y.isnull().sum()"
   ]
  },
  {
   "cell_type": "markdown",
   "id": "f79551e5",
   "metadata": {},
   "source": [
    "### Target의 분포 확인"
   ]
  },
  {
   "cell_type": "code",
   "execution_count": null,
   "id": "916d8928",
   "metadata": {},
   "outputs": [],
   "source": [
    "# 수치형 속성 파악(시각화)\n",
    "klib.dist_plot(y)\n",
    "plt.show()"
   ]
  },
  {
   "cell_type": "markdown",
   "id": "a93b0de4",
   "metadata": {},
   "source": [
    "### 독립변수의 분포 확인"
   ]
  },
  {
   "cell_type": "code",
   "execution_count": null,
   "id": "e7aec30f",
   "metadata": {},
   "outputs": [],
   "source": [
    "# 수치형 속성 파악(시각화)\n",
    "klib.dist_plot(X)\n",
    "plt.show()"
   ]
  },
  {
   "cell_type": "markdown",
   "id": "bfa417b2",
   "metadata": {},
   "source": [
    "### 변수 간 상관성 확인"
   ]
  },
  {
   "cell_type": "code",
   "execution_count": null,
   "id": "5318c26d",
   "metadata": {
    "scrolled": true
   },
   "outputs": [],
   "source": [
    "sns.heatmap(X.corr(), cmap='RdYlGn', linewidths=0.2) #titanic.corr()-->correlation matrix\n",
    "fig=plt.gcf()\n",
    "fig.set_size_inches(12,10)\n",
    "plt.show()"
   ]
  },
  {
   "cell_type": "markdown",
   "id": "3015646b",
   "metadata": {},
   "source": [
    "## train, test 나누기"
   ]
  },
  {
   "cell_type": "code",
   "execution_count": null,
   "id": "ff86dd02",
   "metadata": {},
   "outputs": [],
   "source": [
    "X_train, X_test, y_train, y_test = train_test_split(X, y, test_size = 0.3, random_state = 0)"
   ]
  },
  {
   "cell_type": "markdown",
   "id": "907a701e",
   "metadata": {},
   "source": [
    "# 4. 모델링 및 모델 해석"
   ]
  },
  {
   "cell_type": "code",
   "execution_count": null,
   "id": "335a389c",
   "metadata": {},
   "outputs": [],
   "source": [
    "model_rf = RandomForestRegressor(n_estimators=100, random_state=0) \n",
    "model_rf.fit(X_train, y_train)"
   ]
  },
  {
   "cell_type": "code",
   "execution_count": null,
   "id": "3cc806a7",
   "metadata": {},
   "outputs": [],
   "source": [
    "y_pred = model_rf.predict(X_test)"
   ]
  },
  {
   "cell_type": "code",
   "execution_count": null,
   "id": "f5434b94",
   "metadata": {},
   "outputs": [],
   "source": [
    "mse = mean_squared_error(y_test, y_pred)**(0.5)\n",
    "mse"
   ]
  },
  {
   "cell_type": "markdown",
   "id": "0796780d",
   "metadata": {},
   "source": [
    "# 4.1 PDP(Partial Dependence Plot)\n",
    "- 모델에 상관없이 적용 가능\n",
    "- 특정 feature와 target 사이의 관계를 알기 위함, 특정 feature의 값을 변화시키며 target 값의 변화를 관찰"
   ]
  },
  {
   "cell_type": "code",
   "execution_count": null,
   "id": "92b3c7ec",
   "metadata": {},
   "outputs": [],
   "source": [
    "fig, ax = plt.subplots(figsize=(6, 6))\n",
    "plot_partial_dependence(estimator=model_rf, X=X_test, features=['LSTAT'], \n",
    "                        grid_resolution=round(X_test.shape[0]*0.1), percentiles=(0, 1), \n",
    "                        kind='average', method='brute',\n",
    "                        ax=ax);"
   ]
  },
  {
   "cell_type": "code",
   "execution_count": null,
   "id": "c5160bcb",
   "metadata": {},
   "outputs": [],
   "source": [
    "fig = plt.figure(figsize=(6,6))\n",
    "\n",
    "\n",
    "features = ('CRIM', 'ZN')\n",
    "pdp, axes = partial_dependence(model_rf, X_test, features=features, grid_resolution=20).values()\n",
    "\n",
    "XX, YY = np.meshgrid(axes[0], axes[1])\n",
    "Z = pdp[0].T\n",
    "ax = Axes3D(fig)\n",
    "surf = ax.plot_surface(XX, YY, Z, rstride=1, cstride=1, cmap=plt.cm.BuPu, edgecolor='k')\n",
    "\n",
    "ax.set_xlabel(features[0])\n",
    "ax.set_ylabel(features[1])\n",
    "ax.set_zlabel('Partial dependence')\n",
    "               \n",
    "# pretty init view\n",
    "ax.view_init(elev=22, azim=122)\n",
    "plt.colorbar(surf)\n",
    "plt.suptitle('Partial dependence of house value \\n'\n",
    "             'with RandomForest')\n",
    "plt.subplots_adjust(top=0.9)\n",
    "               \n",
    "plt.show()"
   ]
  },
  {
   "cell_type": "markdown",
   "id": "46f7d9d3",
   "metadata": {},
   "source": [
    "# 4.2 ICE (Individual Conditional Expectation Plot)"
   ]
  },
  {
   "cell_type": "code",
   "execution_count": null,
   "id": "b59eb101",
   "metadata": {},
   "outputs": [],
   "source": [
    "fig, ax = plt.subplots(figsize=(6, 6))\n",
    "plot_partial_dependence(estimator=model_rf, X=X_test, features=['LSTAT'], \n",
    "                        grid_resolution=round(X_train.shape[0]*0.1), percentiles=(0, 1), \n",
    "                        kind='individual', method='brute',\n",
    "                        ax=ax)"
   ]
  },
  {
   "cell_type": "markdown",
   "id": "05f11361",
   "metadata": {},
   "source": [
    "# 4.3 LIME"
   ]
  },
  {
   "cell_type": "code",
   "execution_count": null,
   "id": "6ea4fed3",
   "metadata": {},
   "outputs": [],
   "source": [
    "explainer = lime.lime_tabular.LimeTabularExplainer(X_train.values, feature_names=X_train.columns.values.tolist(),\n",
    "                                                  class_names=['MEDV'], verbose=True, mode='regression')"
   ]
  },
  {
   "cell_type": "code",
   "execution_count": null,
   "id": "4417b86e",
   "metadata": {},
   "outputs": [],
   "source": [
    "#5th instance\n",
    "j = 5\n",
    "exp = explainer.explain_instance(X_test.values[j], model_rf.predict, num_features=6)"
   ]
  },
  {
   "cell_type": "code",
   "execution_count": null,
   "id": "c378f8b1",
   "metadata": {},
   "outputs": [],
   "source": [
    "exp.show_in_notebook(show_table=True)"
   ]
  },
  {
   "cell_type": "code",
   "execution_count": null,
   "id": "6fc351ef",
   "metadata": {},
   "outputs": [],
   "source": [
    "exp.as_list()"
   ]
  },
  {
   "cell_type": "code",
   "execution_count": null,
   "id": "d6f57f60",
   "metadata": {},
   "outputs": [],
   "source": [
    "#10th instance\n",
    "j = 10\n",
    "exp = explainer.explain_instance(X_test.values[j], model_rf.predict, num_features=6)"
   ]
  },
  {
   "cell_type": "code",
   "execution_count": null,
   "id": "1d352397",
   "metadata": {},
   "outputs": [],
   "source": [
    "exp.show_in_notebook(show_table=True)"
   ]
  },
  {
   "cell_type": "code",
   "execution_count": null,
   "id": "2a8498c2",
   "metadata": {},
   "outputs": [],
   "source": [
    "exp.as_list()"
   ]
  },
  {
   "cell_type": "code",
   "execution_count": null,
   "id": "4749f217",
   "metadata": {},
   "outputs": [],
   "source": [
    "#15th instance\n",
    "j = 15\n",
    "exp = explainer.explain_instance(X_test.values[j], model_rf.predict, num_features=6)"
   ]
  },
  {
   "cell_type": "code",
   "execution_count": null,
   "id": "4f3e0903",
   "metadata": {},
   "outputs": [],
   "source": [
    "exp.show_in_notebook(show_table=True)"
   ]
  },
  {
   "cell_type": "code",
   "execution_count": null,
   "id": "f379cc65",
   "metadata": {},
   "outputs": [],
   "source": [
    "exp.as_list()"
   ]
  },
  {
   "cell_type": "code",
   "execution_count": null,
   "id": "4af298dc",
   "metadata": {},
   "outputs": [],
   "source": [
    "#20th instance\n",
    "j = 20\n",
    "exp = explainer.explain_instance(X_test.values[j], model_rf.predict, num_features=6)"
   ]
  },
  {
   "cell_type": "code",
   "execution_count": null,
   "id": "cf51cd3f",
   "metadata": {},
   "outputs": [],
   "source": [
    "exp.show_in_notebook(show_table=True)"
   ]
  },
  {
   "cell_type": "code",
   "execution_count": null,
   "id": "f01d468d",
   "metadata": {},
   "outputs": [],
   "source": [
    "exp.as_list()"
   ]
  },
  {
   "cell_type": "code",
   "execution_count": null,
   "id": "1afe434a",
   "metadata": {},
   "outputs": [],
   "source": [
    "#25th instance\n",
    "j = 25\n",
    "exp = explainer.explain_instance(X_test.values[j], model_rf.predict, num_features=6)"
   ]
  },
  {
   "cell_type": "code",
   "execution_count": null,
   "id": "e44ab0b1",
   "metadata": {},
   "outputs": [],
   "source": [
    "exp.show_in_notebook(show_table=True)"
   ]
  },
  {
   "cell_type": "code",
   "execution_count": null,
   "id": "cb4bc473",
   "metadata": {},
   "outputs": [],
   "source": [
    "exp.as_list()"
   ]
  },
  {
   "cell_type": "markdown",
   "id": "90e6c1c0",
   "metadata": {},
   "source": [
    "# 4.4 Shap"
   ]
  },
  {
   "cell_type": "code",
   "execution_count": null,
   "id": "514fe699",
   "metadata": {},
   "outputs": [],
   "source": [
    "shap.initjs()\n",
    "explainer = shap.Explainer(model_rf, X_test)\n",
    "shap_values = explainer(X_train)"
   ]
  },
  {
   "cell_type": "markdown",
   "id": "61df4223",
   "metadata": {},
   "source": [
    "### Feture Importance Plot"
   ]
  },
  {
   "cell_type": "code",
   "execution_count": null,
   "id": "c53951f6",
   "metadata": {
    "scrolled": false
   },
   "outputs": [],
   "source": [
    "shap.plots.bar(shap_values)"
   ]
  },
  {
   "cell_type": "markdown",
   "id": "d4a441f3",
   "metadata": {},
   "source": [
    "### Summary Plot"
   ]
  },
  {
   "cell_type": "code",
   "execution_count": null,
   "id": "e76fafc9",
   "metadata": {},
   "outputs": [],
   "source": [
    "shap.summary_plot(shap_values)"
   ]
  },
  {
   "cell_type": "markdown",
   "id": "3cd04846",
   "metadata": {},
   "source": [
    "### Waterfall Plot"
   ]
  },
  {
   "cell_type": "code",
   "execution_count": null,
   "id": "e103ded5",
   "metadata": {},
   "outputs": [],
   "source": [
    "shap.plots.waterfall(shap_values[201])"
   ]
  },
  {
   "cell_type": "markdown",
   "id": "552ee0e7",
   "metadata": {},
   "source": [
    "### Force Plot"
   ]
  },
  {
   "cell_type": "code",
   "execution_count": null,
   "id": "5236ea39",
   "metadata": {},
   "outputs": [],
   "source": [
    "shap.force_plot(shap_values[1])"
   ]
  },
  {
   "cell_type": "code",
   "execution_count": null,
   "id": "0041da92",
   "metadata": {},
   "outputs": [],
   "source": [
    "shap.plots.force(shap_values[0:1000, :])"
   ]
  },
  {
   "cell_type": "markdown",
   "id": "bc45dd90",
   "metadata": {},
   "source": [
    "# 5. 결과 해석"
   ]
  },
  {
   "cell_type": "code",
   "execution_count": null,
   "id": "7f1a8e43",
   "metadata": {},
   "outputs": [],
   "source": [
    "# 여러 XAI 결과를 확인하여 해석"
   ]
  }
 ],
 "metadata": {
  "kernelspec": {
   "display_name": "Python 3 (ipykernel)",
   "language": "python",
   "name": "python3"
  },
  "language_info": {
   "codemirror_mode": {
    "name": "ipython",
    "version": 3
   },
   "file_extension": ".py",
   "mimetype": "text/x-python",
   "name": "python",
   "nbconvert_exporter": "python",
   "pygments_lexer": "ipython3",
   "version": "3.8.8"
  }
 },
 "nbformat": 4,
 "nbformat_minor": 5
}
